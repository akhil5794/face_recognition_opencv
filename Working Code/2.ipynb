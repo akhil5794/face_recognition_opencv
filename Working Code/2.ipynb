{
 "cells": [
  {
   "cell_type": "code",
   "execution_count": 9,
   "metadata": {},
   "outputs": [],
   "source": [
    "import cv2\n",
    "import numpy as np\n",
    "from PIL import Image\n",
    "import os"
   ]
  },
  {
   "cell_type": "code",
   "execution_count": 10,
   "metadata": {
    "scrolled": true
   },
   "outputs": [],
   "source": [
    "# Path for face image database\n",
    "path = './dataset/'\n",
    "\n",
    "recognizer = cv2.face.LBPHFaceRecognizer_create()\n",
    "detector = cv2.CascadeClassifier(\"haarcascade_frontalface_default.xml\");\n"
   ]
  },
  {
   "cell_type": "code",
   "execution_count": 11,
   "metadata": {},
   "outputs": [
    {
     "name": "stdout",
     "output_type": "stream",
     "text": [
      "\n",
      " [INFO] Training faces. It will take a few seconds. Wait ...\n",
      "['./dataset/Akhil', './dataset/Chaithanya Kumar']\n",
      "\n",
      " [INFO] 2 faces trained. Exiting Program\n"
     ]
    }
   ],
   "source": [
    "# function to get the images and label data\n",
    "def getImagesAndLabels(path):\n",
    "\n",
    "    imagePaths = [os.path.join(path,f) for f in os.listdir(path)]     \n",
    "    faceSamples=[]\n",
    "    ids = []\n",
    "    count = 0\n",
    "    \n",
    "    images = []\n",
    "    classids = []\n",
    "    classNames = []\n",
    "    myList = os.listdir(path)\n",
    "    #print(myList)\n",
    "    print(imagePaths)\n",
    "    for ml in myList:\n",
    "        #print(ml)\n",
    "        count = count + 1\n",
    "        for cl in os.listdir(path+ml): \n",
    "            #print(cl)\n",
    "            curImg = cv2.imread(f'{path}/{ml}/{cl}',0)\n",
    "            #curImg = cv2.resize(curImg, (388, 298), cv2.INTER_AREA)\n",
    "            if curImg is not None:\n",
    "                images.append(curImg)\n",
    "                #print(curImg.shape)\n",
    "                classNames.append(os.path.splitext(ml)[0])\n",
    "                classids.append(count)\n",
    "                \n",
    "\n",
    "#     for imagePath in imagePaths:\n",
    "\n",
    "#         PIL_img = Image.open(imagePath).convert('L') # convert it to grayscale\n",
    "#         img_numpy = np.array(PIL_img,'uint8')\n",
    "\n",
    "#         id = int(os.path.split(imagePath)[-1].split(\".\")[1])\n",
    "#         faces = detector.detectMultiScale(img_numpy)\n",
    "\n",
    "#         for (x,y,w,h) in faces:\n",
    "#             faceSamples.append(img_numpy[y:y+h,x:x+w])\n",
    "#             ids.append(id)\n",
    "\n",
    "    return images,classids,classNames\n",
    "\n",
    "print (\"\\n [INFO] Training faces. It will take a few seconds. Wait ...\")\n",
    "faces,ids,names = getImagesAndLabels(path)\n",
    "recognizer.train(faces, np.array(ids))\n",
    "\n",
    "# Save the model into trainer/trainer.yml\n",
    "recognizer.write('trainer/trainer.yml') # recognizer.save() worked on Mac, but not on Pi\n",
    "\n",
    "# Print the numer of faces trained and end program\n",
    "print(\"\\n [INFO] {0} faces trained. Exiting Program\".format(len(np.unique(ids))))"
   ]
  },
  {
   "cell_type": "code",
   "execution_count": 12,
   "metadata": {},
   "outputs": [
    {
     "data": {
      "text/plain": [
       "array(['Akhil', 'Chaithanya Kumar'], dtype='<U16')"
      ]
     },
     "execution_count": 12,
     "metadata": {},
     "output_type": "execute_result"
    }
   ],
   "source": [
    "np.unique(names)"
   ]
  },
  {
   "cell_type": "code",
   "execution_count": null,
   "metadata": {},
   "outputs": [],
   "source": []
  }
 ],
 "metadata": {
  "anaconda-cloud": {},
  "kernelspec": {
   "display_name": "Python 3",
   "language": "python",
   "name": "python3"
  },
  "language_info": {
   "codemirror_mode": {
    "name": "ipython",
    "version": 3
   },
   "file_extension": ".py",
   "mimetype": "text/x-python",
   "name": "python",
   "nbconvert_exporter": "python",
   "pygments_lexer": "ipython3",
   "version": "3.7.4"
  }
 },
 "nbformat": 4,
 "nbformat_minor": 1
}
